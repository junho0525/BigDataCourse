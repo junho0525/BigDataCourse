{
 "cells": [
  {
   "cell_type": "markdown",
   "id": "514d4922",
   "metadata": {},
   "source": [
    "# Event-related Stock Price Analysis\n",
    "### This code analyze the impact on stock market caused by various events during COVID era "
   ]
  },
  {
   "cell_type": "markdown",
   "id": "e5fcf131",
   "metadata": {},
   "source": [
    "## Load stock price data"
   ]
  },
  {
   "cell_type": "code",
   "execution_count": null,
   "id": "1cd008da",
   "metadata": {},
   "outputs": [],
   "source": [
    "import pandas_datareader"
   ]
  }
 ],
 "metadata": {
  "kernelspec": {
   "display_name": "Python 3 (ipykernel)",
   "language": "python",
   "name": "python3"
  },
  "language_info": {
   "codemirror_mode": {
    "name": "ipython",
    "version": 3
   },
   "file_extension": ".py",
   "mimetype": "text/x-python",
   "name": "python",
   "nbconvert_exporter": "python",
   "pygments_lexer": "ipython3",
   "version": "3.9.7"
  }
 },
 "nbformat": 4,
 "nbformat_minor": 5
}
